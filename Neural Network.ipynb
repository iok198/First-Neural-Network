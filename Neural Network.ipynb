{
 "cells": [
  {
   "cell_type": "code",
   "execution_count": 34,
   "metadata": {},
   "outputs": [],
   "source": [
    "%matplotlib inline\n",
    "import numpy as np\n",
    "import matplotlib.pyplot as plt"
   ]
  },
  {
   "cell_type": "markdown",
   "metadata": {},
   "source": [
    "### Activation Functions"
   ]
  },
  {
   "cell_type": "code",
   "execution_count": 35,
   "metadata": {},
   "outputs": [],
   "source": [
    "def sigmoid(x, derivative=False):\n",
    "    sigm = 1. / (1. + np.exp(-x))\n",
    "    if derivative:\n",
    "        return sigm * (1. - sigm)\n",
    "    else:\n",
    "        return sigm"
   ]
  },
  {
   "cell_type": "markdown",
   "metadata": {},
   "source": [
    "### Neuron Class"
   ]
  },
  {
   "cell_type": "code",
   "execution_count": 55,
   "metadata": {},
   "outputs": [],
   "source": [
    "class Neuron(object):\n",
    "    def __init__(self, weight_num):\n",
    "        self.weights = []\n",
    "        self.bias = np.random.randn()\n",
    "        for i in range(weight_num):\n",
    "            self.weights.append(np.random.randn())\n",
    "            \n",
    "    # This uses the weights to guess the value from the inputs\n",
    "    def feed_forward(self, inputs):\n",
    "        sum = 0\n",
    "        for i in range(len(self.weights)):\n",
    "            sum += inputs[i] * self.weights[i]\n",
    "            \n",
    "        return sigmoid(sum)\n",
    "    \n",
    "    def train(self, input_data, iterations):\n",
    "        for i in range(iterations):\n",
    "            guess = self.feed_forward(input_data[i])\n",
    "            "
   ]
  },
  {
   "cell_type": "code",
   "execution_count": 56,
   "metadata": {},
   "outputs": [
    {
     "name": "stdout",
     "output_type": "stream",
     "text": [
      "[-0.13361022717410256, -0.13176580567951468, 1.2492385283326097]\n"
     ]
    },
    {
     "data": {
      "text/plain": [
       "0.9661236188807661"
      ]
     },
     "execution_count": 56,
     "metadata": {},
     "output_type": "execute_result"
    }
   ],
   "source": [
    "nn = Neuron(3)\n",
    "print(nn.weights)\n",
    "nn.feed_forward([1, 2, 3])"
   ]
  },
  {
   "cell_type": "code",
   "execution_count": null,
   "metadata": {},
   "outputs": [],
   "source": []
  }
 ],
 "metadata": {
  "kernelspec": {
   "display_name": "Python 3",
   "language": "python",
   "name": "python3"
  },
  "language_info": {
   "codemirror_mode": {
    "name": "ipython",
    "version": 3
   },
   "file_extension": ".py",
   "mimetype": "text/x-python",
   "name": "python",
   "nbconvert_exporter": "python",
   "pygments_lexer": "ipython3",
   "version": "3.5.1"
  }
 },
 "nbformat": 4,
 "nbformat_minor": 2
}
